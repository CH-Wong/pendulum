{
 "cells": [
  {
   "cell_type": "code",
   "execution_count": 52,
   "metadata": {},
   "outputs": [],
   "source": [
    "# Native Libraries\n",
    "import sys\n",
    "\n",
    "# External Libraries\n",
    "import numpy as np\n",
    "from PyQt5 import QtWidgets\n",
    "\n",
    "# Local Imports\n",
    "from three_body.three_body import ThreeBody2D\n",
    "from three_body.animation import ThreeBody2DGui\n",
    "\n",
    "# 2D PENDULUM ANIMATION\n",
    "# Simulation parameters\n",
    "h = 1   # [s] Integration time step-size\n",
    "t0 = 0      # [s] Starting time\n",
    "m1 = 1000000000      # [kg] Mass of particle 1\n",
    "m2 = 1000000000      # [kg] Mass of particle 2\n",
    "m3 = 1000000000      # [kg] Mass of particle 3\n",
    "\n",
    "# Initial coordinates @ t=t0\n",
    "# Initial positions-vectors for all particles i (i.e. 1, 2 and 3)\n",
    "r1_0 = np.array([0,0], dtype=np.float64)      # [m] Initial position of particle 1\n",
    "r2_0 = np.array([0,1], dtype=np.float64)      # [m] Initial position of particle 2\n",
    "r3_0 = np.array([1,0], dtype=np.float64)      # [m] Initial position of particle 3\n",
    "\n",
    "# Initial velocity-vectors for all particles i (i.e. 1, 2, and 3)\n",
    "v1_0 = np.array([0,0], dtype=np.float64)      # [m/s] Initial velocity of particle 1\n",
    "v2_0 = np.array([0,0], dtype=np.float64)      # [m/s] Initial velocity of particle 2\n",
    "v3_0 = np.array([0,0], dtype=np.float64)      # [m/s] Initial velocity of particle 3\n",
    "\n",
    "TB_2D = ThreeBody2D(m1, m2, m3, r1_0, r2_0, r3_0, v1_0, v2_0, v3_0, t0, h)\n"
   ]
  },
  {
   "cell_type": "code",
   "execution_count": 55,
   "metadata": {},
   "outputs": [
    {
     "name": "stdout",
     "output_type": "stream",
     "text": [
      "[0.200229 0.200229]\n",
      "[0.07079164 0.72897936]\n",
      "[0.72897936 0.07079164]\n"
     ]
    }
   ],
   "source": [
    "TB_2D.iterate()\n",
    "print(TB_2D.r1)\n",
    "print(TB_2D.r2)\n",
    "print(TB_2D.r3)"
   ]
  },
  {
   "cell_type": "code",
   "execution_count": null,
   "metadata": {},
   "outputs": [],
   "source": []
  },
  {
   "cell_type": "code",
   "execution_count": null,
   "metadata": {},
   "outputs": [],
   "source": []
  },
  {
   "cell_type": "code",
   "execution_count": null,
   "metadata": {},
   "outputs": [],
   "source": []
  },
  {
   "cell_type": "code",
   "execution_count": null,
   "metadata": {},
   "outputs": [],
   "source": []
  }
 ],
 "metadata": {
  "kernelspec": {
   "display_name": "venv",
   "language": "python",
   "name": "python3"
  },
  "language_info": {
   "codemirror_mode": {
    "name": "ipython",
    "version": 3
   },
   "file_extension": ".py",
   "mimetype": "text/x-python",
   "name": "python",
   "nbconvert_exporter": "python",
   "pygments_lexer": "ipython3",
   "version": "3.11.8"
  }
 },
 "nbformat": 4,
 "nbformat_minor": 2
}
